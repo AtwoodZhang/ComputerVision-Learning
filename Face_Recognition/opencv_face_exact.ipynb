{
 "cells": [
  {
   "cell_type": "code",
   "execution_count": null,
   "metadata": {},
   "outputs": [],
   "source": [
    "import cv2\n",
    "import dlib\n",
    "import matplotlib.pyplot as plt\n",
    "\n",
    "# 初始化Dlib的人脸检测器和关键点检测器\n",
    "detector = dlib.get_frontal_face_detector()\n",
    "predictor = dlib.shape_predictor(r\"/home/zya/zya/AI/NNet/Learning/ComputerVision-Learning/cls_20240118_face_recog/shape_predictor_68_face_landmarks.dat\")  # 请下载模型文件\n",
    "\n",
    "# 读取输入图像\n",
    "image = cv2.imread(r\"/home/zya/zya/AI/NNet/Learning/ComputerVision-Learning/cls_20240118_face_recog/fake_image.png\")\n",
    "\n",
    "# 将图像转换为灰度\n",
    "gray = cv2.cvtColor(image, cv2.COLOR_BGR2GRAY)\n",
    "\n",
    "# 使用Dlib的人脸检测器检测人脸\n",
    "faces = detector(gray)\n",
    "print(faces)\n",
    "\n",
    "# 遍历每张检测到的人脸\n",
    "for face in faces:\n",
    "    # 使用Dlib的关键点检测器检测关键点\n",
    "    landmarks = predictor(gray, face)\n",
    "\n",
    "    # 遍历每个关键点并在原图上绘制\n",
    "    for n in range(0, 68):\n",
    "        x = landmarks.part(n).x\n",
    "        y = landmarks.part(n).y\n",
    "        cv2.circle(image, (x, y), 2, (0, 255, 0), -1)\n",
    "\n",
    "# 将BGR图像转换为RGB图像（matplotlib使用RGB格式）\n",
    "image_rgb = cv2.cvtColor(image, cv2.COLOR_BGR2RGB)\n",
    "\n",
    "# 在Jupyter Notebook中显示图像\n",
    "plt.imshow(image_rgb)\n",
    "plt.axis('off')  # 隐藏坐标轴\n",
    "plt.show()\n"
   ]
  }
 ],
 "metadata": {
  "kernelspec": {
   "display_name": "yolov5",
   "language": "python",
   "name": "python3"
  },
  "language_info": {
   "codemirror_mode": {
    "name": "ipython",
    "version": 3
   },
   "file_extension": ".py",
   "mimetype": "text/x-python",
   "name": "python",
   "nbconvert_exporter": "python",
   "pygments_lexer": "ipython3",
   "version": "3.7.0"
  }
 },
 "nbformat": 4,
 "nbformat_minor": 2
}
