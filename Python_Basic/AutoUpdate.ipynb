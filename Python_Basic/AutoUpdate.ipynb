{
 "cells": [
  {
   "cell_type": "markdown",
   "metadata": {},
   "source": [
    "# 1. 自动更新\n",
    "#### 1） 正常定义并初始化类"
   ]
  },
  {
   "cell_type": "code",
   "execution_count": 1,
   "metadata": {},
   "outputs": [
    {
     "name": "stdout",
     "output_type": "stream",
     "text": [
      "<__main__.A object at 0x7f908ecc7da0>\n"
     ]
    }
   ],
   "source": [
    "class A():\n",
    "    def __init__(self, dicts):\n",
    "        self.name = dicts[\"name\"]\n",
    "        self.age = dicts[\"age\"]\n",
    "        self.sex = dicts[\"sex\"]\n",
    "        self.hobby = dicts[\"hobby\"]\n",
    "    \n",
    "if __name__ == \"__main__\":\n",
    "    dicts = {\"name\": \"lisa\", \"age\": 23, \"sex\": \"women\", \"hobby\":\"hardstyle\"}\n",
    "    a = A(dicts)\n",
    "    print(a)"
   ]
  },
  {
   "cell_type": "markdown",
   "metadata": {},
   "source": [
    "#### 2）自动更新"
   ]
  },
  {
   "cell_type": "code",
   "execution_count": 3,
   "metadata": {},
   "outputs": [
    {
     "name": "stdout",
     "output_type": "stream",
     "text": [
      "{'name': 'lisa', 'age': 23, 'sex': 'women', 'hobby': 'hardstyle'}\n",
      "<__main__.A object at 0x7f908ecc7b70>\n"
     ]
    }
   ],
   "source": [
    "class A():\n",
    "    def __init__(self, dicts):\n",
    "        self.__dict__.update(dicts)\n",
    "        print(self.__dict__)\n",
    "        \n",
    "if __name__ == \"__main__\":\n",
    "    dicts = {\"name\": \"lisa\", \"age\": 23, \"sex\": \"women\", \"hobby\":\"hardstyle\"}\n",
    "    a = A(dicts)\n",
    "    print(a)"
   ]
  },
  {
   "cell_type": "markdown",
   "metadata": {},
   "source": [
    "1) 出现了一个问题。关于自动更新。设置_defaults之后，__init__不走_defaults的问题。\n",
    "--> 具体现象如下： 如下是标准的自动更新设置过程；"
   ]
  },
  {
   "cell_type": "code",
   "execution_count": 4,
   "metadata": {},
   "outputs": [
    {
     "name": "stdout",
     "output_type": "stream",
     "text": [
      "value1\n",
      "new_value2\n",
      "value3\n"
     ]
    }
   ],
   "source": [
    "class MyClass:\n",
    "    # 定义默认值字典\n",
    "    _defaults = {\n",
    "        'key1': 'value1',\n",
    "        'key2': 'value2',\n",
    "    }\n",
    "\n",
    "    def __init__(self, **kwargs):\n",
    "        # 将默认值字典更新到实例的属性中\n",
    "        self.__dict__.update(self._defaults)\n",
    "        # 更新传入参数的值\n",
    "        self.__dict__.update(kwargs)\n",
    "\n",
    "# 创建 MyClass 实例并传入参数\n",
    "my_instance = MyClass(key2='new_value2', key3='value3')\n",
    "\n",
    "# 输出实例的属性\n",
    "print(my_instance.key1)  # 输出: value1\n",
    "print(my_instance.key2)  # 输出: new_value2\n",
    "print(my_instance.key3)  # 输出: value3"
   ]
  },
  {
   "cell_type": "markdown",
   "metadata": {},
   "source": [
    "2) 但是我在使用python3.10.4的时候，情况发生了变化。_defaults里面的值传递不到__init__里面；但我换了python版本就可以了。"
   ]
  },
  {
   "cell_type": "markdown",
   "metadata": {},
   "source": [
    "python 3.7.16 --> ok"
   ]
  },
  {
   "cell_type": "markdown",
   "metadata": {},
   "source": [
    "python 3.8.0--> OK"
   ]
  },
  {
   "cell_type": "markdown",
   "metadata": {},
   "source": [
    "python 3.10.4 --> NG"
   ]
  },
  {
   "cell_type": "markdown",
   "metadata": {},
   "source": [
    "python 3.7.0-->NG"
   ]
  },
  {
   "cell_type": "markdown",
   "metadata": {},
   "source": [
    "python 3.7.0-->NG"
   ]
  },
  {
   "cell_type": "markdown",
   "metadata": {},
   "source": [
    "python 3.9.18 --> NG"
   ]
  },
  {
   "cell_type": "markdown",
   "metadata": {},
   "source": [
    "3. 但是又出现了很奇怪的现象，不管什么编译器，他运行了之后，再用不能运行的跑一次，又能跑了。"
   ]
  }
 ],
 "metadata": {
  "kernelspec": {
   "display_name": "yolov5",
   "language": "python",
   "name": "python3"
  },
  "language_info": {
   "codemirror_mode": {
    "name": "ipython",
    "version": 3
   },
   "file_extension": ".py",
   "mimetype": "text/x-python",
   "name": "python",
   "nbconvert_exporter": "python",
   "pygments_lexer": "ipython3",
   "version": "3.7.0"
  }
 },
 "nbformat": 4,
 "nbformat_minor": 2
}
